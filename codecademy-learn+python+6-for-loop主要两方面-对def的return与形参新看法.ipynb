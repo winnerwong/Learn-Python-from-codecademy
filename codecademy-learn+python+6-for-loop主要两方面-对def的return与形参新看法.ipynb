{
 "cells": [
  {
   "cell_type": "code",
   "execution_count": null,
   "metadata": {
    "collapsed": true
   },
   "outputs": [],
   "source": [
    "\"\"\"#目前来看，return里的函数，才是def所求，return有时候直接写参数，有时候写函数\n",
    "\n",
    "\"\"\""
   ]
  },
  {
   "cell_type": "code",
   "execution_count": null,
   "metadata": {
    "collapsed": true
   },
   "outputs": [],
   "source": [
    "\"\"\"range(stop)\n",
    "range(start, stop)\n",
    "range(start, stop, step)\n",
    "在def里，for x in range(0,len(形式参数))\n",
    "\"\"\""
   ]
  },
  {
   "cell_type": "code",
   "execution_count": null,
   "metadata": {
    "collapsed": true
   },
   "outputs": [],
   "source": [
    "\"\"\"关于删除，建议用del的位置与remove的值，常见逻辑是位置用中括号，值用小括号\n",
    "#一个字符串是否是最简单的list，结果显示差一个括号与一个双引号\n",
    "#如何for循环list，用位置index还是值=字符串或数字\n",
    "\n",
    "#关于末尾加值，如何循环list，用位置index与range（0，len（形式参数））还是值=字符串或数字\n",
    "#这里的循环，环环相扣，类似镜像\n",
    "\n",
    "\"\"\""
   ]
  },
  {
   "cell_type": "code",
   "execution_count": 2,
   "metadata": {},
   "outputs": [
    {
     "name": "stdout",
     "output_type": "stream",
     "text": [
      "[1, 5]\n"
     ]
    }
   ],
   "source": [
    "n=[1,3,5]\n",
    "del (n[1])\n",
    "print(n)"
   ]
  },
  {
   "cell_type": "code",
   "execution_count": 3,
   "metadata": {},
   "outputs": [
    {
     "name": "stdout",
     "output_type": "stream",
     "text": [
      "[1, 5]\n"
     ]
    }
   ],
   "source": [
    "n=[1,3,5]\n",
    "n.remove(3)\n",
    "print(n)"
   ]
  },
  {
   "cell_type": "code",
   "execution_count": 4,
   "metadata": {},
   "outputs": [
    {
     "name": "stdout",
     "output_type": "stream",
     "text": [
      "[1, 5]\n"
     ]
    }
   ],
   "source": [
    "n=[1,3,5]\n",
    "n.pop(1)\n",
    "print(n)"
   ]
  },
  {
   "cell_type": "code",
   "execution_count": 7,
   "metadata": {},
   "outputs": [
    {
     "name": "stdout",
     "output_type": "stream",
     "text": [
      "[3, 5, 7, 9]\n"
     ]
    }
   ],
   "source": [
    "#若自定义函数=list，值不知，但是末尾加一个值，最后给参数赋值\n",
    "#现在看return的功能除了循环意外，其实就是迭代更新的意思\n",
    "#在def里，赋值放首与尾都一样，but非def放首\n",
    "n = [3, 5, 7]\n",
    "def list_extender(lst):\n",
    "  lst.append(9)\n",
    "  return lst\n",
    "\n",
    "print(list_extender(n))"
   ]
  },
  {
   "cell_type": "code",
   "execution_count": 8,
   "metadata": {},
   "outputs": [
    {
     "name": "stdout",
     "output_type": "stream",
     "text": [
      "[3, 5, 7, 9]\n"
     ]
    }
   ],
   "source": [
    "\n",
    "def list_extender(lst):\n",
    "  lst.append(9)\n",
    "  return lst\n",
    "n = [3, 5, 7]#在def里，赋值放首与尾都一样，but非def放首\n",
    "print(list_extender(n))"
   ]
  },
  {
   "cell_type": "code",
   "execution_count": 11,
   "metadata": {},
   "outputs": [
    {
     "name": "stdout",
     "output_type": "stream",
     "text": [
      "3\n",
      "5\n",
      "7\n"
     ]
    }
   ],
   "source": [
    "n = [3, 5, 7]\n",
    "\n",
    "def print_list(x):\n",
    "  for i in range(0, len(x)):\n",
    "    print (x[i])#这里不是n[i]，因为是def\n",
    "  \n",
    "print_list(n)"
   ]
  },
  {
   "cell_type": "code",
   "execution_count": 21,
   "metadata": {},
   "outputs": [
    {
     "name": "stdout",
     "output_type": "stream",
     "text": [
      "[3, 5, 7, 3, 5, 7]\n"
     ]
    }
   ],
   "source": [
    "n = [3, 5, 7]\n",
    "def double_list(x):\n",
    "  x=x*2#list乘以数字是表示复制几遍\n",
    "  return x\n",
    "print(double_list(ｎ))"
   ]
  },
  {
   "cell_type": "code",
   "execution_count": 25,
   "metadata": {},
   "outputs": [
    {
     "name": "stdout",
     "output_type": "stream",
     "text": [
      "[6, 10, 14]\n"
     ]
    }
   ],
   "source": [
    "\n",
    "n = [3, 5, 7]\n",
    "\n",
    "def double_list(x):\n",
    "  for i in range(0, len(x)):\n",
    "    x[i] = x[i] * 2\n",
    "#ｉ=ｉ*2\n",
    "    #ｉ是位置，不是值\n",
    "  return x\n",
    "print( double_list(n))\n"
   ]
  },
  {
   "cell_type": "code",
   "execution_count": 29,
   "metadata": {},
   "outputs": [
    {
     "name": "stdout",
     "output_type": "stream",
     "text": [
      "3\n",
      "8\n",
      "15\n",
      "15\n"
     ]
    }
   ],
   "source": [
    "#range\n",
    "#目前来看，return里的函数，才是def所求，return有时候直接写参数，有时候写函数\n",
    "n = [3, 5, 7]\n",
    "\n",
    "def total(numbers):\n",
    "  result = 0\n",
    "  for i in range(0,len(numbers)):\n",
    "    result += numbers[i]\n",
    "    print(result)\n",
    "  return result\n",
    "print(total(n))\n"
   ]
  },
  {
   "cell_type": "code",
   "execution_count": null,
   "metadata": {
    "collapsed": true
   },
   "outputs": [],
   "source": [
    "#目前来看，return里的函数，才是def所求，return有时候直接写参数，有时候写函数\n",
    "m = [1, 2, 3]\n",
    "n = [4, 5, 6]\n",
    "\n",
    "# Add your code here!\n",
    "def join_lists(x,y):\n",
    "  return x+y\n",
    "\n",
    "\n",
    "\n",
    "\n",
    "print join_lists(m, n)"
   ]
  },
  {
   "cell_type": "code",
   "execution_count": 31,
   "metadata": {},
   "outputs": [
    {
     "name": "stdout",
     "output_type": "stream",
     "text": [
      "abb\n",
      "['abb']\n",
      "abb\n"
     ]
    }
   ],
   "source": [
    "#一个字符串是否是最简单的list，结果显示差一个括号与一个双引号\n",
    "a=\"abb\"\n",
    "list=[\"abb\"]\n",
    "print(a)\n",
    "print(list)\n",
    "print(list[0])"
   ]
  },
  {
   "cell_type": "code",
   "execution_count": 33,
   "metadata": {},
   "outputs": [
    {
     "name": "stdout",
     "output_type": "stream",
     "text": [
      "4\n",
      "abb\n",
      "中文\n"
     ]
    }
   ],
   "source": [
    "#一个字符是一个字母，两个字符是一个汉字，多个字符就是字符串\n",
    "n1=4\n",
    "a1=\"abb\"\n",
    "a2=\"中文\"\n",
    "print(n1)\n",
    "print(a1)\n",
    "print(a2)"
   ]
  },
  {
   "cell_type": "code",
   "execution_count": 38,
   "metadata": {},
   "outputs": [
    {
     "name": "stdout",
     "output_type": "stream",
     "text": [
      "abbLieberman3\n"
     ]
    }
   ],
   "source": [
    "#如何循环list，用index还是值=字符串或数字\n",
    "n = [\"abb\", \"Lieberman\",\"3\"]\n",
    "# Add your function here\n",
    "\n",
    "def join_strings(words):\n",
    "  result = \"\"#这里定义result为字符串，所以数字也要加双引号为字符串\n",
    "  for word in words:\n",
    "    result=result+ word\n",
    "  return result\n",
    "\n",
    "print(join_strings(n))"
   ]
  },
  {
   "cell_type": "code",
   "execution_count": 41,
   "metadata": {},
   "outputs": [
    {
     "name": "stdout",
     "output_type": "stream",
     "text": [
      "abbLieberman3\n"
     ]
    }
   ],
   "source": [
    "n = [\"abb\", \"Lieberman\",\"3\"]\n",
    "# Add your function here\n",
    "\n",
    "def join_strings(words):\n",
    "  result = \"\"#这里定义result为字符串，所以数字也要加双引号为字符串\n",
    "  for word in words:\n",
    "    result+= word#循环里的a=a+数字或字符串。等于a+=数字或字符串\n",
    "  return result\n",
    "\n",
    "print(join_strings(n))"
   ]
  },
  {
   "cell_type": "code",
   "execution_count": 46,
   "metadata": {},
   "outputs": [
    {
     "name": "stdout",
     "output_type": "stream",
     "text": [
      "0\n",
      "1\n",
      "2\n",
      "abbLieberman3\n"
     ]
    }
   ],
   "source": [
    "#如何循环list，用位置index还是值=字符串或数字\n",
    "n = [\"abb\", \"Lieberman\",\"3\"]\n",
    "# Add your function here\n",
    "\n",
    "def join_strings(words):\n",
    "  result = \"\"#这里定义result为字符串，所以数字也要加双引号为字符串\n",
    "  for i in range(0,len(words)):\n",
    "        print(i)\n",
    "        result+= words[i]#循环里的a=a+数字或字符串。等于a+=数字或字符串\n",
    "  return result\n",
    "\n",
    "print(join_strings(n))"
   ]
  },
  {
   "cell_type": "code",
   "execution_count": 42,
   "metadata": {},
   "outputs": [
    {
     "name": "stdout",
     "output_type": "stream",
     "text": [
      "[1, 2, 3, 4, 5, 6, 7, 8, 9]\n"
     ]
    }
   ],
   "source": [
    "#关于末尾加值，如何循环list，用位置index与range（0，len（形式参数））还是值=字符串或数字\n",
    "#这里的循环，环环相扣，类似镜像\n",
    "n = [[1, 2, 3], [4, 5, 6, 7, 8, 9]]\n",
    "# Add your function here\n",
    "\n",
    "def flatten(lists):\n",
    "  results = []\n",
    "  for numbers in lists:\n",
    "    for number in numbers:\n",
    "      results.append(number)\n",
    "  return results\n",
    "\n",
    "print (flatten(n))"
   ]
  },
  {
   "cell_type": "code",
   "execution_count": 48,
   "metadata": {},
   "outputs": [
    {
     "name": "stdout",
     "output_type": "stream",
     "text": [
      "0\n",
      "1\n",
      "[[1, 2, 3], [4, 5, 6, 7, 8, 9]]\n"
     ]
    }
   ],
   "source": [
    "n = [[1, 2, 3], [4, 5, 6, 7, 8, 9]]\n",
    "# Add your function here\n",
    "\n",
    "def flatten(lists):\n",
    "  results = []\n",
    "  for i in range(0,len(lists)):\n",
    "    print (i)\n",
    "    results.append(lists[i])\n",
    "  return results\n",
    "\n",
    "print (flatten(n))"
   ]
  },
  {
   "cell_type": "code",
   "execution_count": null,
   "metadata": {
    "collapsed": true
   },
   "outputs": [],
   "source": []
  },
  {
   "cell_type": "code",
   "execution_count": null,
   "metadata": {
    "collapsed": true
   },
   "outputs": [],
   "source": []
  }
 ],
 "metadata": {
  "kernelspec": {
   "display_name": "Python 3",
   "language": "python",
   "name": "python3"
  },
  "language_info": {
   "codemirror_mode": {
    "name": "ipython",
    "version": 3
   },
   "file_extension": ".py",
   "mimetype": "text/x-python",
   "name": "python",
   "nbconvert_exporter": "python",
   "pygments_lexer": "ipython3",
   "version": "3.5.2"
  }
 },
 "nbformat": 4,
 "nbformat_minor": 2
}
